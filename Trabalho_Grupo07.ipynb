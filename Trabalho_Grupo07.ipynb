{
 "cells": [
  {
   "cell_type": "markdown",
   "metadata": {},
   "source": [
    "# Trabalho grupo 7"
   ]
  },
  {
   "cell_type": "code",
   "execution_count": 1,
   "metadata": {},
   "outputs": [
    {
     "name": "stdout",
     "output_type": "stream",
     "text": [
      "WARNING:tensorflow:From c:\\Users\\joaof\\AppData\\Local\\Programs\\Python\\Python311\\Lib\\site-packages\\tf_keras\\src\\losses.py:2976: The name tf.losses.sparse_softmax_cross_entropy is deprecated. Please use tf.compat.v1.losses.sparse_softmax_cross_entropy instead.\n",
      "\n"
     ]
    }
   ],
   "source": [
    "import csv\n",
    "import stanza\n",
    "import evaluate\n",
    "import numpy as np\n",
    "import pandas as pd\n",
    "import seaborn as sns\n",
    "import tensorflow as tf\n",
    "from textblob import TextBlob\n",
    "import matplotlib.pyplot as plt\n",
    "from nltk.stem import PorterStemmer\n",
    "from nltk.tokenize import word_tokenize\n",
    "from vaderSentiment.vaderSentiment import SentimentIntensityAnalyzer\n",
    "from sklearn.metrics import accuracy_score, precision_score, recall_score, f1_score, classification_report, confusion_matrix\n",
    "from transformers import AutoTokenizer, create_optimizer, pipeline\n",
    "from sklearn.model_selection import train_test_split\n",
    "from tensorflow.keras.optimizers import Adam\n",
    "from sklearn.preprocessing import LabelEncoder\n",
    "from tensorflow.keras.models import Sequential\n",
    "from tensorflow.keras.callbacks import ModelCheckpoint\n",
    "from tensorflow.keras.preprocessing.text import Tokenizer\n",
    "from transformers import TFDistilBertModel, DistilBertTokenizer\n",
    "from tensorflow.keras.losses import SparseCategoricalCrossentropy\n",
    "from tensorflow.keras.preprocessing.sequence import pad_sequences\n",
    "from tensorflow.keras.layers import Embedding, LSTM, Dense, Dropout, GlobalAveragePooling1D, Bidirectional\n",
    "\n",
    "\n",
    "# Importing dataset\n",
    "rt_train = pd.read_csv('./rotten_tomatoes_train.tsv', sep='\\t', names=['Stuff', 'Sentiment', 'Text'])\n",
    "rt_test = pd.read_csv('./rotten_tomatoes_test.tsv', sep='\\t', names=['Stuff', 'Sentiment', 'Text'])\n",
    "\n",
    "rt_train = rt_train.drop(labels='Stuff',axis=1)\n",
    "rt_test = rt_test.drop(labels='Stuff',axis=1)"
   ]
  },
  {
   "cell_type": "code",
   "execution_count": 2,
   "metadata": {},
   "outputs": [
    {
     "data": {
      "text/html": [
       "<div>\n",
       "<style scoped>\n",
       "    .dataframe tbody tr th:only-of-type {\n",
       "        vertical-align: middle;\n",
       "    }\n",
       "\n",
       "    .dataframe tbody tr th {\n",
       "        vertical-align: top;\n",
       "    }\n",
       "\n",
       "    .dataframe thead th {\n",
       "        text-align: right;\n",
       "    }\n",
       "</style>\n",
       "<table border=\"1\" class=\"dataframe\">\n",
       "  <thead>\n",
       "    <tr style=\"text-align: right;\">\n",
       "      <th></th>\n",
       "      <th>Sentiment</th>\n",
       "      <th>Text</th>\n",
       "    </tr>\n",
       "  </thead>\n",
       "  <tbody>\n",
       "    <tr>\n",
       "      <th>0</th>\n",
       "      <td>negative</td>\n",
       "      <td>With a tighter editorial process and firmer di...</td>\n",
       "    </tr>\n",
       "    <tr>\n",
       "      <th>1</th>\n",
       "      <td>positive</td>\n",
       "      <td>If ever a concept came handed down from the mo...</td>\n",
       "    </tr>\n",
       "    <tr>\n",
       "      <th>2</th>\n",
       "      <td>negative</td>\n",
       "      <td>Whether Jason X is this bad on purpose is neve...</td>\n",
       "    </tr>\n",
       "    <tr>\n",
       "      <th>3</th>\n",
       "      <td>positive</td>\n",
       "      <td>Alternates between deadpan comedy and heartbre...</td>\n",
       "    </tr>\n",
       "    <tr>\n",
       "      <th>4</th>\n",
       "      <td>neutral</td>\n",
       "      <td>God is great , the movie 's not .</td>\n",
       "    </tr>\n",
       "    <tr>\n",
       "      <th>...</th>\n",
       "      <td>...</td>\n",
       "      <td>...</td>\n",
       "    </tr>\n",
       "    <tr>\n",
       "      <th>1724</th>\n",
       "      <td>neutral</td>\n",
       "      <td>Innocuous enough to make even Jean-Claude Van ...</td>\n",
       "    </tr>\n",
       "    <tr>\n",
       "      <th>1725</th>\n",
       "      <td>positive</td>\n",
       "      <td>A sensitive and astute first feature by Anne-S...</td>\n",
       "    </tr>\n",
       "    <tr>\n",
       "      <th>1726</th>\n",
       "      <td>positive</td>\n",
       "      <td>Brilliantly written and well-acted , Yellow As...</td>\n",
       "    </tr>\n",
       "    <tr>\n",
       "      <th>1727</th>\n",
       "      <td>positive</td>\n",
       "      <td>And it sees those relationships , including th...</td>\n",
       "    </tr>\n",
       "    <tr>\n",
       "      <th>1728</th>\n",
       "      <td>negative</td>\n",
       "      <td>Russell lacks the visual panache , the comic t...</td>\n",
       "    </tr>\n",
       "  </tbody>\n",
       "</table>\n",
       "<p>1729 rows × 2 columns</p>\n",
       "</div>"
      ],
      "text/plain": [
       "     Sentiment                                               Text\n",
       "0     negative  With a tighter editorial process and firmer di...\n",
       "1     positive  If ever a concept came handed down from the mo...\n",
       "2     negative  Whether Jason X is this bad on purpose is neve...\n",
       "3     positive  Alternates between deadpan comedy and heartbre...\n",
       "4      neutral                  God is great , the movie 's not .\n",
       "...        ...                                                ...\n",
       "1724   neutral  Innocuous enough to make even Jean-Claude Van ...\n",
       "1725  positive  A sensitive and astute first feature by Anne-S...\n",
       "1726  positive  Brilliantly written and well-acted , Yellow As...\n",
       "1727  positive  And it sees those relationships , including th...\n",
       "1728  negative  Russell lacks the visual panache , the comic t...\n",
       "\n",
       "[1729 rows x 2 columns]"
      ]
     },
     "execution_count": 2,
     "metadata": {},
     "output_type": "execute_result"
    }
   ],
   "source": [
    "rt_test"
   ]
  },
  {
   "cell_type": "markdown",
   "metadata": {},
   "source": [
    "Aglumerar dados de treino por sentimento calculando a quantidade de cada tipo de sentimento, para calcular a percentagem de cada sentimento e depois ilustrar num Pie Chart"
   ]
  },
  {
   "cell_type": "code",
   "execution_count": 3,
   "metadata": {},
   "outputs": [
    {
     "data": {
      "image/png": "[encoded data removed]",
      "text/plain": [
       "<Figure size 800x600 with 1 Axes>"
      ]
     },
     "metadata": {},
     "output_type": "display_data"
    }
   ],
   "source": [
    "sentiment_counts_train = rt_train['Sentiment'].value_counts()\n",
    "sentiment_percentages_train = (sentiment_counts_train / sentiment_counts_train.sum()) * 100\n",
    "\n",
    "plt.figure(figsize=(8, 6))\n",
    "plt.pie(sentiment_percentages_train, labels=sentiment_percentages_train.index, autopct='%1.1f%%', startangle=140)\n",
    "plt.title('Sentiment Distribution in Training Data', pad=20)\n",
    "plt.axis('equal')\n",
    "plt.show()"
   ]
  },
  {
   "cell_type": "markdown",
   "metadata": {},
   "source": [
    "Aglumerar dados de teste por sentimento calculando a quantidade de cada tipo de sentimento, para calcular a percentagem de cada sentimento e depois ilustrar num Pie Chart"
   ]
  },
  {
   "cell_type": "code",
   "execution_count": 4,
   "metadata": {},
   "outputs": [
    {
     "data": {
      "image/png": "[encoded data removed]",
      "text/plain": [
       "<Figure size 800x600 with 1 Axes>"
      ]
     },
     "metadata": {},
     "output_type": "display_data"
    }
   ],
   "source": [
    "sentiment_counts_train = rt_test['Sentiment'].value_counts()\n",
    "sentiment_percentages_train = (sentiment_counts_train / sentiment_counts_train.sum()) * 100\n",
    "\n",
    "plt.figure(figsize=(8, 6))\n",
    "plt.pie(sentiment_percentages_train, labels=sentiment_percentages_train.index, autopct='%1.1f%%', startangle=140)\n",
    "plt.title('Sentiment Distribution in Test Data', pad=20)\n",
    "plt.axis('equal')\n",
    "plt.show()"
   ]
  },
  {
   "cell_type": "markdown",
   "metadata": {},
   "source": [
    "### Useful functions:"
   ]
  },
  {
   "cell_type": "code",
   "execution_count": 5,
   "metadata": {},
   "outputs": [],
   "source": [
    "# Text Negation function\n",
    "def negation_converter(data_sample):\n",
    "    transform_data = data_sample.copy()\n",
    "\n",
    "    for row in data_sample.iterrows():\n",
    "        negated_text = text_negator(row[1].at['Text'])\n",
    "        transform_data.loc[row[0], 'Text'] = negated_text\n",
    "\n",
    "    return transform_data\n",
    "\n",
    "def text_negator(text):\n",
    "    words_list = word_tokenize(text)\n",
    "    phrase = ''\n",
    "    negation_list = [\"not\", \"n't\", \"no\", \"never\", \"none\"]\n",
    "    punctuation_list = ['.', ',', '?', '!', ';']\n",
    "    negation = False\n",
    "\n",
    "    for word in words_list:\n",
    "        if word.lower() in negation_list:\n",
    "            phrase += (word + ' ')\n",
    "            negation = True\n",
    "        elif word.lower() not in punctuation_list and negation:\n",
    "            phrase += ('NOT_' + word + ' ')\n",
    "        elif word in punctuation_list:\n",
    "            phrase += (word + ' ')\n",
    "            negation = False\n",
    "        else:\n",
    "            phrase += (word + ' ')\n",
    "\n",
    "    return phrase\n",
    "\n",
    "\n",
    "# Text Stemming function\n",
    "def stemmer(data_sample):\n",
    "    transform_data = data_sample.copy()\n",
    "\n",
    "    transform_data['Text'] = transform_data['Text'].apply(stem_text)\n",
    "    return transform_data\n",
    "\n",
    "\n",
    "def stem_text(text):\n",
    "    stemmer = PorterStemmer()\n",
    "    words_list = word_tokenize(text)\n",
    "\n",
    "    stemmed_words = [stemmer.stem(word) for word in words_list]\n",
    "    return ' '.join(stemmed_words)\n",
    "\n",
    "\n",
    "# Evaluation stats\n",
    "def get_stats(desired, estimated):\n",
    "    accuracy = accuracy_score(desired, estimated)\n",
    "    print(f'Accuracy: {accuracy}')\n",
    "\n",
    "    precision = precision_score(desired, estimated, average='weighted')\n",
    "    print(f'Precision: {precision}')\n",
    "\n",
    "    recall = recall_score(desired, estimated, average='weighted')\n",
    "    print(f'Recall: {recall}')\n",
    "\n",
    "    f1 = f1_score(desired, estimated, average='weighted')\n",
    "    print(f'F1 Score: {f1}')\n",
    "\n",
    "    classification = classification_report(desired, estimated)\n",
    "    print(f'Classification Report: \\n{classification}')\n",
    "    \n",
    "    conf_matrix = confusion_matrix(desired, estimated)\n",
    "    print(f'Confusion Matrix: \\n{conf_matrix}')\n",
    "\n",
    "    return accuracy, precision, recall, f1, classification, conf_matrix\n",
    "\n",
    "\n",
    "# Plot confusion matrix\n",
    "def make_confusion_matrics(y_true, y_pred):\n",
    "    # Compute the confusion matrix\n",
    "    conf_matrix = confusion_matrix(y_true, y_pred)\n",
    "\n",
    "    # Plot the confusion matrix\n",
    "    plt.figure(figsize=(8, 6))\n",
    "    sns.heatmap(conf_matrix, annot=True, cmap='Blues', fmt='g', \n",
    "                xticklabels=['Negative', 'Neutral', 'Positive'], \n",
    "                yticklabels=['Negative', 'Neutral', 'Positive'])\n",
    "    plt.xlabel('Predicted')\n",
    "    plt.ylabel('True')\n",
    "    plt.title('Confusion Matrix')\n",
    "    plt.show()\n",
    "\n",
    "# Other performance stats function\n",
    "def determinate_metrics_values(y_pred):\n",
    "    y_true = rt_test['Sentiment'].to_list()\n",
    "    accuracy = accuracy_score(y_true, y_pred)\n",
    "    precision = precision_score(y_true, y_pred, average='weighted')\n",
    "    recall = recall_score(y_true, y_pred, average='weighted')\n",
    "    f1 = f1_score(y_true, y_pred, average='weighted')\n",
    "\n",
    "    print(\"Accuracy:\", accuracy)\n",
    "    print(\"Precision:\", precision)\n",
    "    print(\"Recall:\", recall)\n",
    "    print(\"F1 Score:\", f1)"
   ]
  },
  {
   "cell_type": "markdown",
   "metadata": {},
   "source": [
    "## 1.2 Definição de um baseline usando ferramentas já existentes\n",
    "Verifique que os dados se encontram subdividos em conjuntos de treino e teste. Pretende-se agora\n",
    "fazer uma classificação inicial dos dados de teste usando uma ferramenta de análise de sentimentos já existente com modelos pré-treinados. Para isso, deve procurar e escolher uma ferramenta\n",
    "que permita fazer Análise de Sentimento diretamente a um texto. Uma possível ferramenta é a biblioteca TextBlob que se encontra ilustrada nos exemplos da aula, mas poderá usar outra tal como\n",
    "Vader Sentiment 1 , spacy ou Stanza 2 .\\\n",
    "\\\n",
    "Aplique a ferramenta escolhida aos seus dados de teste e avalie os resultados obtidos utilizando\n",
    "as métricas adotadas. Note que a taxa de acerto (accuracy) poderá ser a mais adequada para\n",
    "problemas binários, em que ambas as classes têm igual importância. Para outros problemas poderá\n",
    "fazer sentido usar outras métricas, tais como: precisão, cobertura e medida F1."
   ]
  },
  {
   "cell_type": "markdown",
   "metadata": {},
   "source": [
    "## TextBlob Analysis\n",
    "\n",
    "Como existem três classes (negative, neutral and positive), estamos a definir intervalos de valores de tamanho igual para escolher o sentimento que TextBlob devolve. O intervalo em que TextBlob retorna a polaridade do texto está entre -1,0 e 1,0. Se separarmos esse intervalo em partes iguais, obteremos [-1.0, -0.33[ para o sentimento negativo, [-0.33, 0.33] para o sentimento neutro e ]0.33, 1.0] para o sentimento positivo."
   ]
  },
  {
   "cell_type": "markdown",
   "metadata": {},
   "source": [
    "TextBlob inner workings:"
   ]
  },
  {
   "cell_type": "code",
   "execution_count": 6,
   "metadata": {},
   "outputs": [
    {
     "name": "stdout",
     "output_type": "stream",
     "text": [
      "Sentiment and Text: \n",
      " Sentiment                                             negative\n",
      "Text         With a tighter editorial process and firmer di...\n",
      "Name: 0, dtype: object\n"
     ]
    },
    {
     "data": {
      "text/plain": [
       "Sentiment(polarity=0.25, subjectivity=0.6166666666666666, assessments=[(['especially'], 0.0, 1.0, None), (['more'], 0.5, 0.5, None), (['competent'], 0.5, 0.6666666666666666, None), (['personal'], 0.0, 0.3, None)])"
      ]
     },
     "execution_count": 6,
     "metadata": {},
     "output_type": "execute_result"
    }
   ],
   "source": [
    "text = rt_test.at[0, 'Text']\n",
    "text_analysis = TextBlob(text)\n",
    "print('Sentiment and Text: \\n', rt_test.iloc[0])\n",
    "text_analysis.sentiment_assessments"
   ]
  },
  {
   "cell_type": "code",
   "execution_count": 7,
   "metadata": {},
   "outputs": [],
   "source": [
    "# TextBlob testing fucntion\n",
    "\n",
    "def tb_eval(rt_data):\n",
    "    est = []\n",
    "    des = []\n",
    "\n",
    "    for row in rt_data.iterrows():\n",
    "        text_analysis = TextBlob(row[1].at['Text'])\n",
    "\n",
    "        if text_analysis.sentiment.polarity < -0.33:\n",
    "            est.append('negative')\n",
    "        elif text_analysis.sentiment.polarity > 0.33:\n",
    "            est.append('positive')\n",
    "        else:\n",
    "            est.append('neutral')\n",
    "\n",
    "        des.append(row[1].at['Sentiment'])\n",
    "\n",
    "    return est, des\n"
   ]
  },
  {
   "cell_type": "markdown",
   "metadata": {},
   "source": [
    "### Test with raw data:"
   ]
  },
  {
   "cell_type": "code",
   "execution_count": 8,
   "metadata": {},
   "outputs": [
    {
     "name": "stdout",
     "output_type": "stream",
     "text": [
      "Accuracy: 0.34875650665124347\n",
      "Precision: 0.6188507198142791\n",
      "Recall: 0.34875650665124347\n",
      "F1 Score: 0.33539183715093823\n",
      "Classification Report: \n",
      "              precision    recall  f1-score   support\n",
      "\n",
      "    negative       0.77      0.13      0.22       671\n",
      "     neutral       0.23      0.83      0.35       344\n",
      "    positive       0.66      0.32      0.43       714\n",
      "\n",
      "    accuracy                           0.35      1729\n",
      "   macro avg       0.55      0.43      0.34      1729\n",
      "weighted avg       0.62      0.35      0.34      1729\n",
      "\n",
      "Confusion Matrix: \n",
      "[[ 86 513  72]\n",
      " [ 12 286  46]\n",
      " [ 13 470 231]]\n"
     ]
    }
   ],
   "source": [
    "estimated, desired =  tb_eval(rt_test)\n",
    "\n",
    "accuracy, precision, recall, f1, classification, conf_matrix = get_stats(desired=desired, estimated=estimated)"
   ]
  },
  {
   "cell_type": "markdown",
   "metadata": {},
   "source": [
    "### Pre-processing text\n",
    "#### Test with lower case"
   ]
  },
  {
   "cell_type": "code",
   "execution_count": 7,
   "metadata": {},
   "outputs": [
    {
     "name": "stdout",
     "output_type": "stream",
     "text": [
      "Accuracy: 0.5286292654713707\n",
      "Precision: 0.5382945144150236\n",
      "Recall: 0.5286292654713707\n",
      "F1 Score: 0.5184531270668544\n",
      "Classification Report: \n",
      "              precision    recall  f1-score   support\n",
      "\n",
      "    negative       0.63      0.41      0.49       671\n",
      "     neutral       0.32      0.32      0.32       344\n",
      "    positive       0.56      0.75      0.64       714\n",
      "\n",
      "    accuracy                           0.53      1729\n",
      "   macro avg       0.50      0.49      0.48      1729\n",
      "weighted avg       0.54      0.53      0.52      1729\n",
      "\n",
      "Confusion Matrix: \n",
      "[[272 138 261]\n",
      " [ 75 109 160]\n",
      " [ 85  96 533]]\n"
     ]
    }
   ],
   "source": [
    "rt_test_lower = rt_test.copy()\n",
    "rt_test_lower['Text'] = rt_test_lower['Text'].str.lower()\n",
    "\n",
    "estimated, desired =  tb_eval(rt_test_lower)\n",
    "\n",
    "accuracy, precision, recall, f1, classification, conf_matrix = get_stats(desired=desired, estimated=estimated)"
   ]
  },
  {
   "cell_type": "markdown",
   "metadata": {},
   "source": [
    "#### Text Stemming"
   ]
  },
  {
   "cell_type": "code",
   "execution_count": 8,
   "metadata": {},
   "outputs": [
    {
     "name": "stdout",
     "output_type": "stream",
     "text": [
      "Accuracy: 0.4268363215731637\n",
      "Precision: 0.4771551441713756\n",
      "Recall: 0.4268363215731637\n",
      "F1 Score: 0.4308198570024256\n",
      "Classification Report: \n",
      "              precision    recall  f1-score   support\n",
      "\n",
      "    negative       0.56      0.30      0.39       671\n",
      "     neutral       0.25      0.47      0.33       344\n",
      "    positive       0.51      0.53      0.52       714\n",
      "\n",
      "    accuracy                           0.43      1729\n",
      "   macro avg       0.44      0.43      0.41      1729\n",
      "weighted avg       0.48      0.43      0.43      1729\n",
      "\n",
      "Confusion Matrix: \n",
      "[[201 228 242]\n",
      " [ 63 160 121]\n",
      " [ 97 240 377]]\n"
     ]
    }
   ],
   "source": [
    "rt_test_stemmed = stemmer(rt_test)\n",
    "\n",
    "estimated, desired =  tb_eval(rt_test_stemmed)\n",
    "\n",
    "accuracy, precision, recall, f1, classification, conf_matrix = get_stats(desired=desired, estimated=estimated)"
   ]
  },
  {
   "cell_type": "markdown",
   "metadata": {},
   "source": [
    "### Text negation"
   ]
  },
  {
   "cell_type": "code",
   "execution_count": 9,
   "metadata": {},
   "outputs": [
    {
     "name": "stdout",
     "output_type": "stream",
     "text": [
      "Accuracy: 0.5222672064777328\n",
      "Precision: 0.5397408567234128\n",
      "Recall: 0.5222672064777328\n",
      "F1 Score: 0.5160714525958006\n",
      "Classification Report: \n",
      "              precision    recall  f1-score   support\n",
      "\n",
      "    negative       0.62      0.39      0.48       671\n",
      "     neutral       0.30      0.36      0.33       344\n",
      "    positive       0.58      0.73      0.64       714\n",
      "\n",
      "    accuracy                           0.52      1729\n",
      "   macro avg       0.50      0.49      0.48      1729\n",
      "weighted avg       0.54      0.52      0.52      1729\n",
      "\n",
      "Confusion Matrix: \n",
      "[[259 176 236]\n",
      " [ 72 125 147]\n",
      " [ 85 110 519]]\n"
     ]
    }
   ],
   "source": [
    "rt_test_negated = negation_converter(rt_test)\n",
    "\n",
    "estimated, desired =  tb_eval(rt_test_negated)\n",
    "\n",
    "accuracy, precision, recall, f1, classification, conf_matrix = get_stats(desired=desired, estimated=estimated)"
   ]
  },
  {
   "cell_type": "code",
   "execution_count": 10,
   "metadata": {},
   "outputs": [],
   "source": [
    "rt_test_negated.to_csv('negation_output.csv')"
   ]
  },
  {
   "cell_type": "markdown",
   "metadata": {},
   "source": [
    "## Vader Sentiment Analysis"
   ]
  },
  {
   "cell_type": "code",
   "execution_count": 11,
   "metadata": {},
   "outputs": [],
   "source": [
    "import vaderSentiment"
   ]
  },
  {
   "cell_type": "code",
   "execution_count": 12,
   "metadata": {},
   "outputs": [
    {
     "name": "stdout",
     "output_type": "stream",
     "text": [
      "Sentiment and Text: \n",
      " Sentiment                                             negative\n",
      "Text         With a tighter editorial process and firmer di...\n",
      "Name: 0, dtype: object\n"
     ]
    },
    {
     "data": {
      "text/plain": [
       "{'neg': 0.0, 'neu': 0.956, 'pos': 0.044, 'compound': 0.1997}"
      ]
     },
     "execution_count": 12,
     "metadata": {},
     "output_type": "execute_result"
    }
   ],
   "source": [
    "text = rt_test.at[0, 'Text']\n",
    "analyser = SentimentIntensityAnalyzer()\n",
    "print('Sentiment and Text: \\n', rt_test.iloc[0])\n",
    "analyser.polarity_scores(text)"
   ]
  },
  {
   "cell_type": "code",
   "execution_count": 13,
   "metadata": {},
   "outputs": [],
   "source": [
    "# vaderSentiment testing fucntion\n",
    "\n",
    "def vs_eval(rt_data):\n",
    "    analyser = SentimentIntensityAnalyzer()\n",
    "    est = []\n",
    "    des = []\n",
    "\n",
    "    for row in rt_data.iterrows():\n",
    "        text_analysis = analyser.polarity_scores(row[1].at['Text'])\n",
    "\n",
    "        if text_analysis['compound'] <= -0.05:\n",
    "            est.append('negative')\n",
    "        elif text_analysis['compound'] >= 0.05:\n",
    "            est.append('positive')\n",
    "        else:\n",
    "            est.append('neutral')\n",
    "\n",
    "        des.append(row[1].at['Sentiment'])\n",
    "\n",
    "    return est, des\n"
   ]
  },
  {
   "cell_type": "markdown",
   "metadata": {},
   "source": [
    "### Test with raw data"
   ]
  },
  {
   "cell_type": "code",
   "execution_count": 14,
   "metadata": {},
   "outputs": [
    {
     "name": "stdout",
     "output_type": "stream",
     "text": [
      "Accuracy: 0.5153267784846732\n",
      "Precision: 0.5237851971736681\n",
      "Recall: 0.5153267784846732\n",
      "F1 Score: 0.5095128070744661\n",
      "Classification Report: \n",
      "              precision    recall  f1-score   support\n",
      "\n",
      "    negative       0.59      0.41      0.48       671\n",
      "     neutral       0.30      0.33      0.31       344\n",
      "    positive       0.57      0.71      0.63       714\n",
      "\n",
      "    accuracy                           0.52      1729\n",
      "   macro avg       0.49      0.48      0.48      1729\n",
      "weighted avg       0.52      0.52      0.51      1729\n",
      "\n",
      "Confusion Matrix: \n",
      "[[274 155 242]\n",
      " [ 85 113 146]\n",
      " [102 108 504]]\n"
     ]
    }
   ],
   "source": [
    "estimated, desired =  vs_eval(rt_test)\n",
    "\n",
    "accuracy, precision, recall, f1, classification, conf_matrix = get_stats(desired=desired, estimated=estimated)"
   ]
  },
  {
   "cell_type": "markdown",
   "metadata": {},
   "source": [
    "### Text Stemming"
   ]
  },
  {
   "cell_type": "code",
   "execution_count": 27,
   "metadata": {},
   "outputs": [
    {
     "name": "stdout",
     "output_type": "stream",
     "text": [
      "Accuracy: 0.44707923655292076\n",
      "Precision: 0.4878005195913776\n",
      "Recall: 0.44707923655292076\n",
      "F1 Score: 0.4533442276737586\n",
      "Classification Report: \n",
      "              precision    recall  f1-score   support\n",
      "\n",
      "    negative       0.56      0.35      0.43       671\n",
      "     neutral       0.25      0.42      0.32       344\n",
      "    positive       0.53      0.55      0.54       714\n",
      "\n",
      "    accuracy                           0.45      1729\n",
      "   macro avg       0.45      0.44      0.43      1729\n",
      "weighted avg       0.49      0.45      0.45      1729\n",
      "\n",
      "Confusion Matrix: \n",
      "[[232 216 223]\n",
      " [ 74 145 125]\n",
      " [108 210 396]]\n"
     ]
    }
   ],
   "source": [
    "rt_test_stemmed = stemmer(rt_test)\n",
    "\n",
    "estimated, desired =  vs_eval(rt_test_stemmed)\n",
    "\n",
    "accuracy, precision, recall, f1, classification, conf_matrix = get_stats(desired=desired, estimated=estimated)"
   ]
  },
  {
   "cell_type": "markdown",
   "metadata": {},
   "source": [
    "### Text negation"
   ]
  },
  {
   "cell_type": "code",
   "execution_count": 28,
   "metadata": {},
   "outputs": [
    {
     "name": "stdout",
     "output_type": "stream",
     "text": [
      "Accuracy: 0.5101214574898786\n",
      "Precision: 0.5277549120803988\n",
      "Recall: 0.5101214574898786\n",
      "F1 Score: 0.5075169450197066\n",
      "Classification Report: \n",
      "              precision    recall  f1-score   support\n",
      "\n",
      "    negative       0.59      0.39      0.47       671\n",
      "     neutral       0.30      0.38      0.33       344\n",
      "    positive       0.58      0.69      0.63       714\n",
      "\n",
      "    accuracy                           0.51      1729\n",
      "   macro avg       0.49      0.48      0.48      1729\n",
      "weighted avg       0.53      0.51      0.51      1729\n",
      "\n",
      "Confusion Matrix: \n",
      "[[260 188 223]\n",
      " [ 77 130 137]\n",
      " [101 121 492]]\n"
     ]
    }
   ],
   "source": [
    "rt_test_negated = negation_converter(rt_test)\n",
    "\n",
    "estimated, desired =  vs_eval(rt_test_negated)\n",
    "\n",
    "accuracy, precision, recall, f1, classification, conf_matrix = get_stats(desired=desired, estimated=estimated)"
   ]
  },
  {
   "cell_type": "markdown",
   "metadata": {},
   "source": [
    "## Stanza test"
   ]
  },
  {
   "cell_type": "code",
   "execution_count": 25,
   "metadata": {},
   "outputs": [],
   "source": [
    "# Stanza test function\n",
    "\n",
    "def stanza_eval(rt_data):\n",
    "    est = []\n",
    "    des = []\n",
    "    nlp = stanza.Pipeline(lang='en', processors='tokenize,sentiment', tokenize_no_ssplit=True)\n",
    "\n",
    "    for row in rt_data.iterrows():\n",
    "        doc = nlp(row[1].at['Text'])\n",
    "        for i, sentence in enumerate(doc.sentences):\n",
    "            sentiment = sentence.sentiment\n",
    "            \n",
    "            if sentiment == 0:\n",
    "                est.append('negative')\n",
    "                des.append(row[1].at['Sentiment'])\n",
    "            elif sentiment == 1:\n",
    "                est.append('neutral')\n",
    "                des.append(row[1].at['Sentiment'])\n",
    "            else:\n",
    "                est.append('positive')\n",
    "                des.append(row[1].at['Sentiment'])\n",
    "        \n",
    "\n",
    "    return est, des"
   ]
  },
  {
   "cell_type": "markdown",
   "metadata": {},
   "source": [
    "### Test with raw data"
   ]
  },
  {
   "cell_type": "code",
   "execution_count": 26,
   "metadata": {},
   "outputs": [
    {
     "name": "stderr",
     "output_type": "stream",
     "text": [
      "2024-04-20 14:07:42 INFO: Checking for updates to resources.json in case models have been updated.  Note: this behavior can be turned off with download_method=None or download_method=DownloadMethod.REUSE_RESOURCES\n"
     ]
    },
    {
     "data": {
      "application/vnd.jupyter.widget-view+json": {
       "model_id": "eda910d37a2c497fb8b17f096739275e",
       "version_major": 2,
       "version_minor": 0
      },
      "text/plain": [
       "Downloading https://raw.githubusercontent.com/stanfordnlp/stanza-resources/main/resources_1.8.0.json:   0%|   …"
      ]
     },
     "metadata": {},
     "output_type": "display_data"
    },
    {
     "name": "stderr",
     "output_type": "stream",
     "text": [
      "2024-04-20 14:07:42 INFO: Downloaded file to C:\\Users\\joaof\\stanza_resources\\resources.json\n",
      "2024-04-20 14:07:42 WARNING: Language en package default expects mwt, which has been added\n",
      "2024-04-20 14:07:43 INFO: Loading these models for language: en (English):\n",
      "==============================\n",
      "| Processor | Package        |\n",
      "------------------------------\n",
      "| tokenize  | combined       |\n",
      "| mwt       | combined       |\n",
      "| sentiment | sstplus_charlm |\n",
      "==============================\n",
      "\n",
      "2024-04-20 14:07:43 INFO: Using device: cpu\n",
      "2024-04-20 14:07:43 INFO: Loading: tokenize\n",
      "2024-04-20 14:07:43 INFO: Loading: mwt\n",
      "2024-04-20 14:07:43 INFO: Loading: sentiment\n",
      "2024-04-20 14:07:44 INFO: Done loading processors!\n"
     ]
    },
    {
     "name": "stdout",
     "output_type": "stream",
     "text": [
      "Accuracy: 0.8287037037037037\n",
      "Precision: 0.8352982582333431\n",
      "Recall: 0.8287037037037037\n",
      "F1 Score: 0.8313504078014128\n",
      "Classification Report: \n",
      "              precision    recall  f1-score   support\n",
      "\n",
      "    negative       0.86      0.89      0.87       670\n",
      "     neutral       0.57      0.62      0.59       344\n",
      "    positive       0.94      0.88      0.91       714\n",
      "\n",
      "    accuracy                           0.83      1728\n",
      "   macro avg       0.79      0.79      0.79      1728\n",
      "weighted avg       0.84      0.83      0.83      1728\n",
      "\n",
      "Confusion Matrix: \n",
      "[[593  75   2]\n",
      " [ 93 212  39]\n",
      " [  3  84 627]]\n"
     ]
    }
   ],
   "source": [
    "estimated, desired =  stanza_eval(rt_test)\n",
    "\n",
    "accuracy, precision, recall, f1, classification, conf_matrix = get_stats(desired=desired, estimated=estimated)"
   ]
  },
  {
   "cell_type": "markdown",
   "metadata": {},
   "source": [
    "### Text Stemming"
   ]
  },
  {
   "cell_type": "code",
   "execution_count": 29,
   "metadata": {},
   "outputs": [
    {
     "name": "stderr",
     "output_type": "stream",
     "text": [
      "2024-04-20 14:22:59 INFO: Checking for updates to resources.json in case models have been updated.  Note: this behavior can be turned off with download_method=None or download_method=DownloadMethod.REUSE_RESOURCES\n"
     ]
    },
    {
     "data": {
      "application/vnd.jupyter.widget-view+json": {
       "model_id": "d90c66f546cf4e3f83810fa1272a8b03",
       "version_major": 2,
       "version_minor": 0
      },
      "text/plain": [
       "Downloading https://raw.githubusercontent.com/stanfordnlp/stanza-resources/main/resources_1.8.0.json:   0%|   …"
      ]
     },
     "metadata": {},
     "output_type": "display_data"
    },
    {
     "name": "stderr",
     "output_type": "stream",
     "text": [
      "2024-04-20 14:22:59 INFO: Downloaded file to C:\\Users\\joaof\\stanza_resources\\resources.json\n",
      "2024-04-20 14:22:59 WARNING: Language en package default expects mwt, which has been added\n",
      "2024-04-20 14:23:00 INFO: Loading these models for language: en (English):\n",
      "==============================\n",
      "| Processor | Package        |\n",
      "------------------------------\n",
      "| tokenize  | combined       |\n",
      "| mwt       | combined       |\n",
      "| sentiment | sstplus_charlm |\n",
      "==============================\n",
      "\n",
      "2024-04-20 14:23:00 INFO: Using device: cpu\n",
      "2024-04-20 14:23:00 INFO: Loading: tokenize\n",
      "2024-04-20 14:23:00 INFO: Loading: mwt\n",
      "2024-04-20 14:23:00 INFO: Loading: sentiment\n",
      "2024-04-20 14:23:00 INFO: Done loading processors!\n"
     ]
    },
    {
     "name": "stdout",
     "output_type": "stream",
     "text": [
      "Accuracy: 0.625\n",
      "Precision: 0.7539089910747984\n",
      "Recall: 0.625\n",
      "F1 Score: 0.649681980661867\n",
      "Classification Report: \n",
      "              precision    recall  f1-score   support\n",
      "\n",
      "    negative       0.78      0.70      0.74       670\n",
      "     neutral       0.34      0.72      0.46       344\n",
      "    positive       0.93      0.51      0.66       714\n",
      "\n",
      "    accuracy                           0.62      1728\n",
      "   macro avg       0.68      0.64      0.62      1728\n",
      "weighted avg       0.75      0.62      0.65      1728\n",
      "\n",
      "Confusion Matrix: \n",
      "[[467 189  14]\n",
      " [ 81 248  15]\n",
      " [ 47 302 365]]\n"
     ]
    }
   ],
   "source": [
    "rt_test_stemmed = stemmer(rt_test)\n",
    "\n",
    "estimated, desired =  stanza_eval(rt_test_stemmed)\n",
    "\n",
    "accuracy, precision, recall, f1, classification, conf_matrix = get_stats(desired=desired, estimated=estimated)"
   ]
  },
  {
   "cell_type": "markdown",
   "metadata": {},
   "source": [
    "### Text negation"
   ]
  },
  {
   "cell_type": "code",
   "execution_count": 30,
   "metadata": {},
   "outputs": [
    {
     "name": "stderr",
     "output_type": "stream",
     "text": [
      "2024-04-20 14:32:01 INFO: Checking for updates to resources.json in case models have been updated.  Note: this behavior can be turned off with download_method=None or download_method=DownloadMethod.REUSE_RESOURCES\n"
     ]
    },
    {
     "data": {
      "application/vnd.jupyter.widget-view+json": {
       "model_id": "4220438ea370474480dbbd28a4e122f0",
       "version_major": 2,
       "version_minor": 0
      },
      "text/plain": [
       "Downloading https://raw.githubusercontent.com/stanfordnlp/stanza-resources/main/resources_1.8.0.json:   0%|   …"
      ]
     },
     "metadata": {},
     "output_type": "display_data"
    },
    {
     "name": "stderr",
     "output_type": "stream",
     "text": [
      "2024-04-20 14:32:01 INFO: Downloaded file to C:\\Users\\joaof\\stanza_resources\\resources.json\n",
      "2024-04-20 14:32:02 WARNING: Language en package default expects mwt, which has been added\n",
      "2024-04-20 14:32:02 INFO: Loading these models for language: en (English):\n",
      "==============================\n",
      "| Processor | Package        |\n",
      "------------------------------\n",
      "| tokenize  | combined       |\n",
      "| mwt       | combined       |\n",
      "| sentiment | sstplus_charlm |\n",
      "==============================\n",
      "\n",
      "2024-04-20 14:32:02 INFO: Using device: cpu\n",
      "2024-04-20 14:32:02 INFO: Loading: tokenize\n",
      "2024-04-20 14:32:02 INFO: Loading: mwt\n",
      "2024-04-20 14:32:02 INFO: Loading: sentiment\n",
      "2024-04-20 14:32:03 INFO: Done loading processors!\n"
     ]
    },
    {
     "name": "stdout",
     "output_type": "stream",
     "text": [
      "Accuracy: 0.7876157407407407\n",
      "Precision: 0.7893697843069758\n",
      "Recall: 0.7876157407407407\n",
      "F1 Score: 0.7880105233496082\n",
      "Classification Report: \n",
      "              precision    recall  f1-score   support\n",
      "\n",
      "    negative       0.85      0.80      0.83       670\n",
      "     neutral       0.57      0.58      0.57       344\n",
      "    positive       0.84      0.87      0.86       714\n",
      "\n",
      "    accuracy                           0.79      1728\n",
      "   macro avg       0.75      0.75      0.75      1728\n",
      "weighted avg       0.79      0.79      0.79      1728\n",
      "\n",
      "Confusion Matrix: \n",
      "[[537  72  61]\n",
      " [ 84 200  60]\n",
      " [  9  81 624]]\n"
     ]
    }
   ],
   "source": [
    "rt_test_negated = negation_converter(rt_test)\n",
    "\n",
    "estimated, desired =  stanza_eval(rt_test_negated)\n",
    "\n",
    "accuracy, precision, recall, f1, classification, conf_matrix = get_stats(desired=desired, estimated=estimated)"
   ]
  },
  {
   "cell_type": "markdown",
   "metadata": {},
   "source": [
    "# 1.3 Preparação de dados e aplicação de um léxico de sentimentos\n",
    "Pretende-se agora fazer um classificador de sentimentos muito simples, baseado num léxico. Para tal, pode utilizar o NRC Word-Emotion Association Lexicon (EmoLex) que se encontra disponível dentro da diretoria ./data/NCR-lexicon.csv. O ficheiro original é um ficheiro do tipo CSV que tem o seguinte conteúdo, embora apenas as primeiras 3 colunas do ficheiro (English, Positive, Negative) sejam suficientes para este trabalho.\n",
    "\n",
    "| English             | Positive | Negative | Anger | Anticipation | Disgust | Fear | ...\n",
    "| ----------------- | --------- | -------- | ------- | ---------- | --------- | -------- | ------- |\n",
    "| abacus      |      0     |    0     |   0   |       0      |    0    |   0  | ...\n",
    "| abandoned   |      0     |    1     |   1   |       0      |    0    |   1  | ...\n",
    "| abandonment |      0     |    1     |   1   |       0      |    0    |   1  | ...\n",
    "| abba        | 1 | 0 | 0 | 0 | 0 | 0 |...\n",
    "| ... | ... | ... | ... | ... | ... | ... | ...\n",
    "\n",
    "Mais uma vez, pretende-se fazer a classificação dos dados de teste. Deverá procurar alguma bibliografia que reporte a utilização de léxicos de polaridade por forma a decidir qual a melhor abordagem. No entanto, a ideia geral é quantificar quantas palavras do texto a analisar estão classificadas como Positive e Negative e neutral, consoante a classe mais frequente, decidir qual a classificação final a atribuír ao texto.\n",
    "\n",
    "Poderá utilizar outros léxicos alternativos e deverá também fazer algum pré-processamento por forma a melhorar o desempenho obtido. Deve fazer pelo menos duas experiências diferentes: sem e com o tratamento da negação, comentando os respetivos resultados obtidos\n"
   ]
  },
  {
   "cell_type": "markdown",
   "metadata": {},
   "source": [
    "Definição da classe do Lexical Classifier"
   ]
  },
  {
   "cell_type": "code",
   "execution_count": null,
   "metadata": {},
   "outputs": [],
   "source": [
    "import string\n",
    "import pandas as pd\n",
    "import spacy\n",
    "\n",
    "class LexicalClassifier:\n",
    "    def __init__(self, lexicon_file):\n",
    "        self.lexicon = self.load_lexicon(lexicon_file)\n",
    "        self.nlp = spacy.load(\"en_core_web_sm\")\n",
    "        self.negation_list = {\"not\", \"n't\", \"no\", \"never\", \"none\", \"nor\", \"neither\"}\n",
    "\n",
    "    def load_lexicon(self, lexicon_file):\n",
    "        lexicon_df = pd.read_csv(lexicon_file)\n",
    "        lexicon_df.set_index('English', inplace=True)\n",
    "        return lexicon_df\n",
    "    \n",
    "    def preprocess_text(self, text):\n",
    "        negated_text = self.negate_text(text)\n",
    "        words = self.tokenize(negated_text)\n",
    "        return words\n",
    "    \n",
    "    def classify(self, text):\n",
    "        positive_count = 0\n",
    "        negative_count = 0\n",
    "        words = self.preprocess_text(text)\n",
    "        for word in words:\n",
    "            if word in self.lexicon.index:\n",
    "                if word.startswith(\"NOT_\"):\n",
    "                    negative_count += 1\n",
    "                else:\n",
    "                    positive_count += self.lexicon.loc[word, 'Positive']\n",
    "                    negative_count += self.lexicon.loc[word, 'Negative']\n",
    "        \n",
    "        if positive_count > negative_count:\n",
    "            return 'positive'\n",
    "        elif negative_count > positive_count:\n",
    "            return 'negative'\n",
    "        else:\n",
    "            return 'neutral'\n",
    "\n",
    "    def negate_text(self, text):\n",
    "        words_list = self.tokenize(text)\n",
    "        negated_text = []\n",
    "        negation = False\n",
    "\n",
    "        for word in words_list:\n",
    "            if word.lower() in self.negation_list:\n",
    "                negation = True\n",
    "                negated_text.append('NOT_' + word)\n",
    "            elif word in string.punctuation:\n",
    "                negation = False\n",
    "                negated_text.append(word)\n",
    "            elif negation:\n",
    "                negated_text.append('NOT_' + word)\n",
    "            else:\n",
    "                negated_text.append(word)\n",
    "\n",
    "        return ' '.join(negated_text)\n",
    "    \n",
    "    def tokenize(self, text):\n",
    "        doc = self.nlp(text)\n",
    "        tokens = [token.text.lower() for token in doc if not token.is_punct and not token.is_space]\n",
    "        return text.split(\" \")"
   ]
  },
  {
   "cell_type": "markdown",
   "metadata": {},
   "source": [
    "Testando Lexical Classifier nos dados de teste"
   ]
  },
  {
   "cell_type": "code",
   "execution_count": null,
   "metadata": {},
   "outputs": [
    {
     "name": "stdout",
     "output_type": "stream",
     "text": [
      "Accuracy: 0.44650086755349916\n",
      "Precision: 0.5090433437059708\n",
      "Recall: 0.44650086755349916\n",
      "F1 Score: 0.4549623110682792\n"
     ]
    }
   ],
   "source": [
    "classifier = LexicalClassifier('./data/NRC-Emotion-Lexicon.csv')\n",
    "\n",
    "predicted_sentiments = [classifier.classify(text) for text in rt_test['Text'].to_list()]\n",
    "\n",
    "determinate_metrics_values(predicted_sentiments)"
   ]
  },
  {
   "cell_type": "markdown",
   "metadata": {},
   "source": [
    "Plot da matriz de confusão"
   ]
  },
  {
   "cell_type": "code",
   "execution_count": null,
   "metadata": {},
   "outputs": [
    {
     "data": {
      "image/png": "[encoded data removed]",
      "text/plain": [
       "<Figure size 800x600 with 2 Axes>"
      ]
     },
     "metadata": {},
     "output_type": "display_data"
    }
   ],
   "source": [
    "y_true = rt_test['Sentiment'].to_list()\n",
    "make_confusion_matrics(y_true, predicted_sentiments)"
   ]
  },
  {
   "cell_type": "markdown",
   "metadata": {},
   "source": [
    "# 4 Treino de um modelo (aprendizagem automática)\n",
    "Deverá agora tentar treinar um modelo, com o objetivo de tentar melhorar ainda mais os resultados de classificação obtidos:\n",
    "\n",
    "1. Treine um modelo com os dados de treino, usando uma ferramenta de classificação à sua escolha, tal como por exemplo scikit-learn, etc.\n",
    "2. Aplique o modelo que construiu ao conjunto de teste, avalie os resultados obtidos e compare-os com os resultados obtidos na tarefa anterior.\n",
    "\n",
    "Faça várias experiências usando diferentes conjuntos ou tipos de features e documente os resultados obtidos. Exemplos de experiências: variar o número de features; usar maiúsculas e minúsculas\n",
    "ou apenas minúsculas; diferentes tipos de pré-processamento (e.g. normalização de palavras, stemming); com e sem part-of-speech ; usando entidades mencionadas; usando GloVe (embeddings); etc.\n",
    "\n",
    "Observação. Pode basear o seu trabalho em receitas disponíveis na Internet, no entanto deve fazer\n",
    "referência a todo o tipo de material que utilizar, incluindo o endereço onde se encontra a respetiva\n",
    "informação"
   ]
  },
  {
   "cell_type": "markdown",
   "metadata": {},
   "source": [
    "Prepare data"
   ]
  },
  {
   "cell_type": "markdown",
   "metadata": {},
   "source": [
    "### LSTM Based Model\n",
    "\n",
    "Defenindo e preparendo as dados de traino e de teste."
   ]
  },
  {
   "cell_type": "code",
   "execution_count": null,
   "metadata": {},
   "outputs": [],
   "source": [
    "lstm_checkpoint_path = \"./checkpoints/glove_lstm_model_checkpoint.h5\"\n",
    "\n",
    "X = rt_train[\"Text\"].tolist()\n",
    "y = rt_train[\"Sentiment\"].tolist()\n",
    "\n",
    "X_test = rt_test[\"Text\"].tolist()\n",
    "y_test = rt_test[\"Sentiment\"].tolist()\n",
    "\n",
    "label_encoder = LabelEncoder()\n",
    "y = label_encoder.fit_transform(y)\n",
    "y_test = label_encoder.transform(y_test)\n",
    "\n",
    "tokenizer = Tokenizer()\n",
    "tokenizer.fit_on_texts(X)\n",
    "X = tokenizer.texts_to_sequences(X)\n",
    "X_test = tokenizer.texts_to_sequences(X_test)\n",
    "max_len = max(len(x) for x in X)\n",
    "X = pad_sequences(X, maxlen=max_len)\n",
    "X_test = pad_sequences(X_test, maxlen=max_len)"
   ]
  },
  {
   "cell_type": "markdown",
   "metadata": {},
   "source": [
    "Carregando os GloVe embeddings e cosntruindo a matrix de embeddings"
   ]
  },
  {
   "cell_type": "code",
   "execution_count": null,
   "metadata": {},
   "outputs": [],
   "source": [
    "\n",
    "embeddings_index = {}\n",
    "with open('./glove.6B/glove.6B.100d.txt', encoding='utf-8') as f:\n",
    "    for line in f:\n",
    "        values = line.split()\n",
    "        word = values[0]\n",
    "        coefs = np.asarray(values[1:], dtype='float32')\n",
    "        embeddings_index[word] = coefs\n",
    "\n",
    "embedding_dim = 100\n",
    "word_index = tokenizer.word_index\n",
    "embedding_matrix = np.zeros((len(word_index) + 1, embedding_dim))\n",
    "for word, i in word_index.items():\n",
    "    embedding_vector = embeddings_index.get(word)\n",
    "    if embedding_vector is not None:\n",
    "        embedding_matrix[i] = embedding_vector"
   ]
  },
  {
   "cell_type": "markdown",
   "metadata": {},
   "source": [
    "Defenindo e compilando o modelo, juntamento com o carregamento do mesmo se este estiver previamente guardado"
   ]
  },
  {
   "cell_type": "code",
   "execution_count": null,
   "metadata": {},
   "outputs": [],
   "source": [
    "model = Sequential([\n",
    "    Embedding(input_dim=len(word_index) + 1, output_dim=embedding_dim, weights=[embedding_matrix], input_length=max_len),\n",
    "    LSTM(128, dropout=0.2),\n",
    "    Dense(64, activation='relu'),\n",
    "    Dropout(0.5),\n",
    "    Dense(3, activation='softmax')\n",
    "])\n",
    "\n",
    "model.compile(optimizer=Adam(learning_rate=1e-4),\n",
    "              loss=SparseCategoricalCrossentropy(),\n",
    "              metrics=['accuracy'])\n",
    "\n",
    "try:\n",
    "    model.load_weights(lstm_checkpoint_path)\n",
    "except:\n",
    "    pass"
   ]
  },
  {
   "cell_type": "markdown",
   "metadata": {},
   "source": [
    "Treinando o modelo"
   ]
  },
  {
   "cell_type": "code",
   "execution_count": null,
   "metadata": {},
   "outputs": [],
   "source": [
    "checkpoint = ModelCheckpoint(lstm_checkpoint_path, monitor='val_accuracy', verbose=1, save_best_only=True, mode='max')\n",
    "\n",
    "model.fit(X, y, validation_split=0.2, epochs=10, batch_size=32, callbacks=[checkpoint])"
   ]
  },
  {
   "cell_type": "markdown",
   "metadata": {},
   "source": [
    "Avaliando os dados de teste e calculando o valor das metricas de avaliação"
   ]
  },
  {
   "cell_type": "code",
   "execution_count": null,
   "metadata": {},
   "outputs": [],
   "source": [
    "y_pred_probs = model.predict(X_test)\n",
    "y_pred = np.argmax(y_pred_probs, axis=1)\n",
    "\n",
    "accuracy = np.mean(y_pred == y_test)\n",
    "report = classification_report(y_test, y_pred, target_names=label_encoder.classes_, output_dict=True)\n",
    "\n",
    "print(\"Classification Report:\")\n",
    "print(classification_report(y_test, y_pred, target_names=label_encoder.classes_))\n",
    "\n",
    "precision = report['weighted avg']['precision']\n",
    "recall = report['weighted avg']['recall']\n",
    "f1_score = report['weighted avg']['f1-score']\n",
    "\n",
    "print(\"\\nAccuracy:\", accuracy)\n",
    "print(\"Precision:\", precision)\n",
    "print(\"Recall:\", recall)\n",
    "print(\"F1 Score:\", f1_score)"
   ]
  },
  {
   "cell_type": "markdown",
   "metadata": {},
   "source": [
    "Plot da matrix de confusão"
   ]
  },
  {
   "cell_type": "code",
   "execution_count": null,
   "metadata": {},
   "outputs": [],
   "source": [
    "make_confusion_matrics(y_test, y_pred)"
   ]
  },
  {
   "cell_type": "markdown",
   "metadata": {},
   "source": [
    "### LSTM Bidirectional Based Model"
   ]
  },
  {
   "cell_type": "markdown",
   "metadata": {},
   "source": [
    "Defenindo e preparando as dados de traino e de teste."
   ]
  },
  {
   "cell_type": "code",
   "execution_count": null,
   "metadata": {},
   "outputs": [],
   "source": [
    "bidirectional_lstm_model_checkpoint = \"./checkpoints/bidirectional_lstm_model_checkpoint.h5\"\n",
    "\n",
    "X = rt_train[\"Text\"].tolist()\n",
    "y = rt_train[\"Sentiment\"].tolist()\n",
    "\n",
    "X_test = rt_test[\"Text\"].tolist()\n",
    "y_test = rt_test[\"Sentiment\"].tolist()\n",
    "\n",
    "label_encoder = LabelEncoder()\n",
    "y = label_encoder.fit_transform(y)\n",
    "y_test = label_encoder.transform(y_test)\n",
    "\n",
    "tokenizer = Tokenizer()\n",
    "tokenizer.fit_on_texts(X)\n",
    "X = tokenizer.texts_to_sequences(X)\n",
    "X_test = tokenizer.texts_to_sequences(X_test)\n",
    "max_len = max(len(x) for x in X)\n",
    "X = pad_sequences(X, maxlen=max_len)\n",
    "X_test = pad_sequences(X_test, maxlen=max_len)"
   ]
  },
  {
   "cell_type": "markdown",
   "metadata": {},
   "source": [
    "Carregando os GloVe embeddings e cosntruindo a matrix de embeddings"
   ]
  },
  {
   "cell_type": "code",
   "execution_count": null,
   "metadata": {},
   "outputs": [],
   "source": [
    "embeddings_index = {}\n",
    "with open('./glove.6B/glove.6B.100d.txt', encoding='utf-8') as f:\n",
    "    for line in f:\n",
    "        values = line.split()\n",
    "        word = values[0]\n",
    "        coefs = np.asarray(values[1:], dtype='float32')\n",
    "        embeddings_index[word] = coefs\n",
    "\n",
    "embedding_dim = 100\n",
    "word_index = tokenizer.word_index\n",
    "embedding_matrix = np.zeros((len(word_index) + 1, embedding_dim))\n",
    "for word, i in word_index.items():\n",
    "    embedding_vector = embeddings_index.get(word)\n",
    "    if embedding_vector is not None:\n",
    "        embedding_matrix[i] = embedding_vector"
   ]
  },
  {
   "cell_type": "markdown",
   "metadata": {},
   "source": [
    "Defenindo e compilando o modelo, juntamento com o carregamento do mesmo se este estiver previamente guardado"
   ]
  },
  {
   "cell_type": "code",
   "execution_count": null,
   "metadata": {},
   "outputs": [],
   "source": [
    "model = Sequential([\n",
    "    Embedding(input_dim=len(word_index) + 1, output_dim=embedding_dim, weights=[embedding_matrix], input_length=max_len),\n",
    "    Bidirectional(tf.keras.layers.LSTM(128, dropout=0.2)),\n",
    "    Dense(64, activation='relu'),\n",
    "    Dropout(0.5),\n",
    "    Dense(3, activation='softmax')\n",
    "])\n",
    "\n",
    "model.compile(optimizer=Adam(learning_rate=1e-4),\n",
    "              loss=SparseCategoricalCrossentropy(),\n",
    "              metrics=['accuracy'])\n",
    "\n",
    "try:\n",
    "    model.load_weights(bidirectional_lstm_model_checkpoint)\n",
    "except:\n",
    "    pass"
   ]
  },
  {
   "cell_type": "markdown",
   "metadata": {},
   "source": [
    "Trainar o modelo"
   ]
  },
  {
   "cell_type": "code",
   "execution_count": null,
   "metadata": {},
   "outputs": [],
   "source": [
    "checkpoint = ModelCheckpoint(bidirectional_lstm_model_checkpoint, monitor='val_accuracy', verbose=1, save_best_only=True, mode='max')\n",
    "callbacks_list = [checkpoint]\n",
    "\n",
    "model.fit(X, y, validation_split=0.2, epochs=1, batch_size=32, callbacks=callbacks_list)"
   ]
  },
  {
   "cell_type": "markdown",
   "metadata": {},
   "source": [
    "Avaliando os dados de teste e calculando o valor das metricas de avaliação"
   ]
  },
  {
   "cell_type": "code",
   "execution_count": null,
   "metadata": {},
   "outputs": [],
   "source": [
    "y_pred_probs = model.predict(X_test)\n",
    "y_pred = np.argmax(y_pred_probs, axis=1)\n",
    "\n",
    "accuracy = np.mean(y_pred == y_test)\n",
    "report = classification_report(y_test, y_pred, target_names=label_encoder.classes_, output_dict=True)\n",
    "\n",
    "print(\"Classification Report:\")\n",
    "print(classification_report(y_test, y_pred, target_names=label_encoder.classes_))\n",
    "\n",
    "precision = report['weighted avg']['precision']\n",
    "recall = report['weighted avg']['recall']\n",
    "f1_score = report['weighted avg']['f1-score']\n",
    "\n",
    "print(\"\\nAccuracy:\", accuracy)\n",
    "print(\"Precision:\", precision)\n",
    "print(\"Recall:\", recall)\n",
    "print(\"F1 Score:\", f1_score)"
   ]
  },
  {
   "cell_type": "markdown",
   "metadata": {},
   "source": [
    "Construindo a matris de confusão"
   ]
  },
  {
   "cell_type": "code",
   "execution_count": null,
   "metadata": {},
   "outputs": [],
   "source": [
    "make_confusion_matrics(y_test, y_pred)"
   ]
  },
  {
   "cell_type": "markdown",
   "metadata": {},
   "source": [
    "# 5 Utilização de transformadores para classificação\n",
    "Deverá agora aplicar um modelo pré-treinado, baseado em transformadores, aos seus dados: \n",
    "\n",
    "a) Numa primeira etapa poderá fazer experiências simples, recorrendo a pipelines já definidos, aplicando um ou mais modelos existentes; \n",
    "\n",
    "b) Numa segunda etapa, use os seus dados para fazer fine tuning ao modelo pré-treinado e assim conseguir ainda melhores resultados."
   ]
  },
  {
   "cell_type": "markdown",
   "metadata": {},
   "source": [
    "### DistilBert Base Uncased pre-trained"
   ]
  },
  {
   "cell_type": "markdown",
   "metadata": {},
   "source": [
    "Defenindo e preparando as dados de traino e de teste."
   ]
  },
  {
   "cell_type": "code",
   "execution_count": null,
   "metadata": {},
   "outputs": [
    {
     "name": "stderr",
     "output_type": "stream",
     "text": [
      "Some weights of the PyTorch model were not used when initializing the TF 2.0 model TFDistilBertModel: ['vocab_transform.weight', 'vocab_projector.bias', 'vocab_layer_norm.weight', 'vocab_layer_norm.bias', 'vocab_transform.bias']\n",
      "- This IS expected if you are initializing TFDistilBertModel from a PyTorch model trained on another task or with another architecture (e.g. initializing a TFBertForSequenceClassification model from a BertForPreTraining model).\n",
      "- This IS NOT expected if you are initializing TFDistilBertModel from a PyTorch model that you expect to be exactly identical (e.g. initializing a TFBertForSequenceClassification model from a BertForSequenceClassification model).\n",
      "All the weights of TFDistilBertModel were initialized from the PyTorch model.\n",
      "If your task is similar to the task the model of the checkpoint was trained on, you can already use TFDistilBertModel for predictions without further training.\n"
     ]
    }
   ],
   "source": [
    "distilbert_model_checkpoint = \"checkpoints/distilbert_model_checkpoint.h5\"\n",
    "\n",
    "X = rt_train[\"Text\"].tolist()\n",
    "y = rt_train[\"Sentiment\"].tolist()\n",
    "\n",
    "X_test = rt_test[\"Text\"].tolist()\n",
    "y_test = rt_test[\"Sentiment\"].tolist()\n",
    "\n",
    "label_encoder = LabelEncoder()\n",
    "y = label_encoder.fit_transform(y)\n",
    "y_test = label_encoder.transform(y_test)\n",
    "\n",
    "tokenizer = DistilBertTokenizer.from_pretrained('distilbert-base-uncased')\n",
    "model = TFDistilBertModel.from_pretrained('distilbert-base-uncased')\n",
    "\n",
    "X_train_encoded = tokenizer(X, padding=True, truncation=True, return_tensors='tf')\n",
    "X_test_encoded = tokenizer(X_test, padding=True, truncation=True, return_tensors='tf')"
   ]
  },
  {
   "cell_type": "markdown",
   "metadata": {},
   "source": [
    "Defenindo e compilando o modelo, juntamento com o carregamento do mesmo se este estiver previamente guardado"
   ]
  },
  {
   "cell_type": "code",
   "execution_count": null,
   "metadata": {},
   "outputs": [],
   "source": [
    "input_ids = tf.keras.Input(shape=(None,), name='input_ids', dtype='int32')\n",
    "attention_mask = tf.keras.Input(shape=(None,), name='attention_mask', dtype='int32')\n",
    "outputs = model({'input_ids': input_ids, 'attention_mask': attention_mask})[0]\n",
    "pooled_output = GlobalAveragePooling1D()(outputs)\n",
    "dropout = Dropout(0.2)(pooled_output)\n",
    "output = Dense(3, activation='softmax')(dropout)\n",
    "\n",
    "model = tf.keras.Model(inputs=[input_ids, attention_mask], outputs=output)\n",
    "\n",
    "model.compile(optimizer=Adam(learning_rate=1e-5),\n",
    "              loss=SparseCategoricalCrossentropy(),\n",
    "              metrics=['accuracy'])\n",
    "\n",
    "checkpoint = ModelCheckpoint(distilbert_model_checkpoint, monitor='val_accuracy', verbose=1, save_best_only=True, mode='max')\n",
    "\n",
    "try:\n",
    "    model.load_weights(bidirectional_lstm_model_checkpoint)\n",
    "except:\n",
    "    pass"
   ]
  },
  {
   "cell_type": "markdown",
   "metadata": {},
   "source": [
    "Treinar o modelo"
   ]
  },
  {
   "cell_type": "code",
   "execution_count": null,
   "metadata": {},
   "outputs": [],
   "source": [
    "history = model.fit({'input_ids': X_train_encoded['input_ids'], 'attention_mask': X_train_encoded['attention_mask']}, y,\n",
    "                    validation_split=0.2, epochs=70, batch_size=32, callbacks=[checkpoint])"
   ]
  },
  {
   "cell_type": "markdown",
   "metadata": {},
   "source": [
    "Avaliando os dados de teste e calculando o valor das metricas de avaliação"
   ]
  },
  {
   "cell_type": "code",
   "execution_count": null,
   "metadata": {},
   "outputs": [],
   "source": [
    "y_pred = model.predict({'input_ids': X_test_encoded['input_ids'], 'attention_mask': X_test_encoded['attention_mask']})\n",
    "y_pred_labels = np.argmax(y_pred, axis=1)\n",
    "\n",
    "y_pred_labels = label_encoder.inverse_transform(y_pred_labels)\n",
    "y_test_labels = label_encoder.inverse_transform(y_test)\n",
    "\n",
    "report = classification_report(y_test_labels, y_pred_labels, labels=np.unique(y_test_labels), output_dict=True)\n",
    "\n",
    "print(\"Classification Report:\")\n",
    "print(classification_report(y_test_labels, y_pred_labels))\n",
    "\n",
    "accuracy = report['accuracy']\n",
    "precision = report['weighted avg']['precision']\n",
    "recall = report['weighted avg']['recall']\n",
    "f1_score = report['weighted avg']['f1-score']\n",
    "\n",
    "print(\"\\nAccuracy:\", accuracy)\n",
    "print(\"Precision:\", precision)\n",
    "print(\"Recall:\", recall)\n",
    "print(\"F1 Score:\", f1_score)"
   ]
  },
  {
   "cell_type": "markdown",
   "metadata": {},
   "source": [
    "Construindo a matrix de confusão"
   ]
  },
  {
   "cell_type": "code",
   "execution_count": null,
   "metadata": {},
   "outputs": [],
   "source": [
    "make_confusion_matrics(y_test_labels, y_pred_labels)"
   ]
  },
  {
   "cell_type": "markdown",
   "metadata": {},
   "source": [
    "## 6 Usar modelos generativos para classificação de sentimento\n",
    "Finalmente, deverá aplicar um modelo generativo, tal como o chatGPT ou Google Gemini ou outro,\n",
    "para atribuir as etiquetas “pos”, “neg” ao conjunto de dados notebook-challenge.txt, que é fornecido\n",
    "sem etiquetas e que contém 421 reviews escritas em português sobre computadores portáteis. Este\n",
    "conjunto encontra-se no moodle (também se encontra dentro da diretoria data/pt-sentiment ao descomprimir o ficheiro tm-data.zip). Deverá usar o sistema que lhe parecer ter melhor desempenho\n",
    "para atribuir automaticamente as etiquetas a estes dados. Juntamente com esse ficheiro, encontrase o ficheiro notebook-train.csv, que contém cerca de 1500 reviews previamente classificadas e que\n",
    "pode ser utilizado para fazer as suas experiências e que lhe permite verificar se está a obter bons\n",
    "resultados. Juntamente com o seu relatório, deverá submeter o ficheiro notebook-challenge.csv, que\n",
    "deve seguir o formato do ficheiro notebook-train.csv, com as colunas “sentiment” e “review_text”,\n",
    "em que a coluna “sentiment” é calculada automaticamente pelo seu sistema. Exemplo:\\\n",
    "sentiment review_text\\\n",
    "pos O note é bom, mas não superou as expectativas . . .\\\n",
    "pos Ele corresponde ao valor pago . Custando em . . .\\\n",
    "pos O notebook é muito bom, o Windows 10 ferra um pouco com a velocidade , mas isso . . .\\\n",
    "pos O notebook tem uma tela enorme , muito útil para . . .\\\n",
    "neg Comprei para estudar , ainda não instalei um único programa . . ."
   ]
  },
  {
   "cell_type": "markdown",
   "metadata": {},
   "source": [
    "#### Preparing datasets"
   ]
  },
  {
   "cell_type": "code",
   "execution_count": 31,
   "metadata": {},
   "outputs": [
    {
     "data": {
      "text/html": [
       "<div>\n",
       "<style scoped>\n",
       "    .dataframe tbody tr th:only-of-type {\n",
       "        vertical-align: middle;\n",
       "    }\n",
       "\n",
       "    .dataframe tbody tr th {\n",
       "        vertical-align: top;\n",
       "    }\n",
       "\n",
       "    .dataframe thead th {\n",
       "        text-align: right;\n",
       "    }\n",
       "</style>\n",
       "<table border=\"1\" class=\"dataframe\">\n",
       "  <thead>\n",
       "    <tr style=\"text-align: right;\">\n",
       "      <th></th>\n",
       "      <th>sentiment</th>\n",
       "      <th>review_text</th>\n",
       "    </tr>\n",
       "  </thead>\n",
       "  <tbody>\n",
       "    <tr>\n",
       "      <th>0</th>\n",
       "      <td>pos</td>\n",
       "      <td>Estou contente com a compra entrega rápida o ú...</td>\n",
       "    </tr>\n",
       "    <tr>\n",
       "      <th>1</th>\n",
       "      <td>pos</td>\n",
       "      <td>Excelente!!! Produto muito bom, bonito, design...</td>\n",
       "    </tr>\n",
       "    <tr>\n",
       "      <th>2</th>\n",
       "      <td>pos</td>\n",
       "      <td>Superou expectativas  É excelente para jogos, ...</td>\n",
       "    </tr>\n",
       "    <tr>\n",
       "      <th>3</th>\n",
       "      <td>pos</td>\n",
       "      <td>Comprei o mesmo para minha irmã e ela me conto...</td>\n",
       "    </tr>\n",
       "    <tr>\n",
       "      <th>4</th>\n",
       "      <td>pos</td>\n",
       "      <td>Notebbok muito bom! Rápido pequeno e leve para...</td>\n",
       "    </tr>\n",
       "    <tr>\n",
       "      <th>...</th>\n",
       "      <td>...</td>\n",
       "      <td>...</td>\n",
       "    </tr>\n",
       "    <tr>\n",
       "      <th>1495</th>\n",
       "      <td>neg</td>\n",
       "      <td>Fiz a compra dia 12/04/2018 era pra ter chegad...</td>\n",
       "    </tr>\n",
       "    <tr>\n",
       "      <th>1496</th>\n",
       "      <td>pos</td>\n",
       "      <td>excelente produto foi além da minha expectativ...</td>\n",
       "    </tr>\n",
       "    <tr>\n",
       "      <th>1497</th>\n",
       "      <td>pos</td>\n",
       "      <td>Produto atendeu as expectativas estava conform...</td>\n",
       "    </tr>\n",
       "    <tr>\n",
       "      <th>1498</th>\n",
       "      <td>pos</td>\n",
       "      <td>Ótimo produto vei tudo certo e rapido notbook ...</td>\n",
       "    </tr>\n",
       "    <tr>\n",
       "      <th>1499</th>\n",
       "      <td>pos</td>\n",
       "      <td>ENTREGA ÓTIMA, RÁPIDA, E EM CASA, ÓTIMO PRODUT...</td>\n",
       "    </tr>\n",
       "  </tbody>\n",
       "</table>\n",
       "<p>1500 rows × 2 columns</p>\n",
       "</div>"
      ],
      "text/plain": [
       "     sentiment                                        review_text\n",
       "0          pos  Estou contente com a compra entrega rápida o ú...\n",
       "1          pos  Excelente!!! Produto muito bom, bonito, design...\n",
       "2          pos  Superou expectativas  É excelente para jogos, ...\n",
       "3          pos  Comprei o mesmo para minha irmã e ela me conto...\n",
       "4          pos  Notebbok muito bom! Rápido pequeno e leve para...\n",
       "...        ...                                                ...\n",
       "1495       neg  Fiz a compra dia 12/04/2018 era pra ter chegad...\n",
       "1496       pos  excelente produto foi além da minha expectativ...\n",
       "1497       pos  Produto atendeu as expectativas estava conform...\n",
       "1498       pos  Ótimo produto vei tudo certo e rapido notbook ...\n",
       "1499       pos  ENTREGA ÓTIMA, RÁPIDA, E EM CASA, ÓTIMO PRODUT...\n",
       "\n",
       "[1500 rows x 2 columns]"
      ]
     },
     "execution_count": 31,
     "metadata": {},
     "output_type": "execute_result"
    }
   ],
   "source": [
    "notebooks_train = pd.read_csv('./notebooks-train.csv', sep='\\t')\n",
    "\n",
    "with open('./notebooks-challenge.txt', 'r', encoding='utf-8') as file:\n",
    "    notebooks_test = [line.strip() for line in file.readlines()]\n",
    "\n",
    "#notebooks_test[0]\n",
    "notebooks_train"
   ]
  },
  {
   "cell_type": "markdown",
   "metadata": {},
   "source": [
    "### Sentiment SiEBERT pre-trained\n",
    "#### Model Sourced from Hugging Face: siebert/sentiment-roberta-large-english"
   ]
  },
  {
   "cell_type": "markdown",
   "metadata": {},
   "source": [
    "#### Run Sentiment Analysis on test sample"
   ]
  },
  {
   "cell_type": "code",
   "execution_count": null,
   "metadata": {},
   "outputs": [],
   "source": [
    "sentiment_analysis = pipeline(\"sentiment-analysis\",model=\"siebert/sentiment-roberta-large-english\")\n",
    "\n",
    "output = pd.DataFrame(columns=['sentiment', 'review_text'])\n",
    "\n",
    "for review in notebooks_test:\n",
    "    sent = sentiment_analysis(review)\n",
    "\n",
    "    result = {\n",
    "        'sentiment': 'pos' if sent[0]['label'] == 'POSITIVE' else 'neg',\n",
    "        'review_text': review\n",
    "    }\n",
    "\n",
    "    output = pd.concat([output, pd.DataFrame(result, index=[0])], ignore_index=True)"
   ]
  },
  {
   "cell_type": "code",
   "execution_count": null,
   "metadata": {},
   "outputs": [],
   "source": [
    "output.to_csv('./notebooks-challenge.csv', sep='\\t')"
   ]
  },
  {
   "cell_type": "markdown",
   "metadata": {},
   "source": [
    "### Test with training dataset"
   ]
  },
  {
   "cell_type": "code",
   "execution_count": 36,
   "metadata": {},
   "outputs": [
    {
     "data": {
      "text/html": [
       "<div>\n",
       "<style scoped>\n",
       "    .dataframe tbody tr th:only-of-type {\n",
       "        vertical-align: middle;\n",
       "    }\n",
       "\n",
       "    .dataframe tbody tr th {\n",
       "        vertical-align: top;\n",
       "    }\n",
       "\n",
       "    .dataframe thead th {\n",
       "        text-align: right;\n",
       "    }\n",
       "</style>\n",
       "<table border=\"1\" class=\"dataframe\">\n",
       "  <thead>\n",
       "    <tr style=\"text-align: right;\">\n",
       "      <th></th>\n",
       "      <th>real_sentiment</th>\n",
       "      <th>sentiment</th>\n",
       "      <th>review_text</th>\n",
       "    </tr>\n",
       "  </thead>\n",
       "  <tbody>\n",
       "    <tr>\n",
       "      <th>0</th>\n",
       "      <td>pos</td>\n",
       "      <td>pos</td>\n",
       "      <td>Estou contente com a compra entrega rápida o ú...</td>\n",
       "    </tr>\n",
       "    <tr>\n",
       "      <th>1</th>\n",
       "      <td>pos</td>\n",
       "      <td>pos</td>\n",
       "      <td>Excelente!!! Produto muito bom, bonito, design...</td>\n",
       "    </tr>\n",
       "    <tr>\n",
       "      <th>2</th>\n",
       "      <td>pos</td>\n",
       "      <td>pos</td>\n",
       "      <td>Superou expectativas  É excelente para jogos, ...</td>\n",
       "    </tr>\n",
       "    <tr>\n",
       "      <th>3</th>\n",
       "      <td>pos</td>\n",
       "      <td>pos</td>\n",
       "      <td>Comprei o mesmo para minha irmã e ela me conto...</td>\n",
       "    </tr>\n",
       "    <tr>\n",
       "      <th>4</th>\n",
       "      <td>pos</td>\n",
       "      <td>pos</td>\n",
       "      <td>Notebbok muito bom! Rápido pequeno e leve para...</td>\n",
       "    </tr>\n",
       "    <tr>\n",
       "      <th>...</th>\n",
       "      <td>...</td>\n",
       "      <td>...</td>\n",
       "      <td>...</td>\n",
       "    </tr>\n",
       "    <tr>\n",
       "      <th>1495</th>\n",
       "      <td>neg</td>\n",
       "      <td>pos</td>\n",
       "      <td>Fiz a compra dia 12/04/2018 era pra ter chegad...</td>\n",
       "    </tr>\n",
       "    <tr>\n",
       "      <th>1496</th>\n",
       "      <td>pos</td>\n",
       "      <td>pos</td>\n",
       "      <td>excelente produto foi além da minha expectativ...</td>\n",
       "    </tr>\n",
       "    <tr>\n",
       "      <th>1497</th>\n",
       "      <td>pos</td>\n",
       "      <td>pos</td>\n",
       "      <td>Produto atendeu as expectativas estava conform...</td>\n",
       "    </tr>\n",
       "    <tr>\n",
       "      <th>1498</th>\n",
       "      <td>pos</td>\n",
       "      <td>pos</td>\n",
       "      <td>Ótimo produto vei tudo certo e rapido notbook ...</td>\n",
       "    </tr>\n",
       "    <tr>\n",
       "      <th>1499</th>\n",
       "      <td>pos</td>\n",
       "      <td>pos</td>\n",
       "      <td>ENTREGA ÓTIMA, RÁPIDA, E EM CASA, ÓTIMO PRODUT...</td>\n",
       "    </tr>\n",
       "  </tbody>\n",
       "</table>\n",
       "<p>1500 rows × 3 columns</p>\n",
       "</div>"
      ],
      "text/plain": [
       "     real_sentiment sentiment  \\\n",
       "0               pos       pos   \n",
       "1               pos       pos   \n",
       "2               pos       pos   \n",
       "3               pos       pos   \n",
       "4               pos       pos   \n",
       "...             ...       ...   \n",
       "1495            neg       pos   \n",
       "1496            pos       pos   \n",
       "1497            pos       pos   \n",
       "1498            pos       pos   \n",
       "1499            pos       pos   \n",
       "\n",
       "                                            review_text  \n",
       "0     Estou contente com a compra entrega rápida o ú...  \n",
       "1     Excelente!!! Produto muito bom, bonito, design...  \n",
       "2     Superou expectativas  É excelente para jogos, ...  \n",
       "3     Comprei o mesmo para minha irmã e ela me conto...  \n",
       "4     Notebbok muito bom! Rápido pequeno e leve para...  \n",
       "...                                                 ...  \n",
       "1495  Fiz a compra dia 12/04/2018 era pra ter chegad...  \n",
       "1496  excelente produto foi além da minha expectativ...  \n",
       "1497  Produto atendeu as expectativas estava conform...  \n",
       "1498  Ótimo produto vei tudo certo e rapido notbook ...  \n",
       "1499  ENTREGA ÓTIMA, RÁPIDA, E EM CASA, ÓTIMO PRODUT...  \n",
       "\n",
       "[1500 rows x 3 columns]"
      ]
     },
     "execution_count": 36,
     "metadata": {},
     "output_type": "execute_result"
    }
   ],
   "source": [
    "sentiment_analysis = pipeline(\"sentiment-analysis\",model=\"siebert/sentiment-roberta-large-english\")\n",
    "\n",
    "output = pd.DataFrame(columns=['real_sentiment', 'sentiment', 'review_text'])\n",
    "\n",
    "for row in notebooks_train.iterrows():\n",
    "    sent = sentiment_analysis(row[1].at['review_text'])\n",
    "\n",
    "    result = {\n",
    "        'real_sentiment': row[1].at['sentiment'],\n",
    "        'sentiment': 'pos' if sent[0]['label'] == 'POSITIVE' else 'neg',\n",
    "        'review_text': row[1].at['review_text']\n",
    "    }\n",
    "\n",
    "    output = pd.concat([output, pd.DataFrame(result, index=[0])], ignore_index=True)\n",
    "\n",
    "output"
   ]
  },
  {
   "cell_type": "code",
   "execution_count": 37,
   "metadata": {},
   "outputs": [
    {
     "name": "stdout",
     "output_type": "stream",
     "text": [
      "Accuracy: 0.8933333333333333\n",
      "Precision: 0.8887566271002162\n",
      "Recall: 0.8933333333333333\n",
      "F1 Score: 0.8858629001474753\n",
      "Classification Report: \n",
      "              precision    recall  f1-score   support\n",
      "\n",
      "         neg       0.83      0.58      0.68       295\n",
      "         pos       0.90      0.97      0.94      1205\n",
      "\n",
      "    accuracy                           0.89      1500\n",
      "   macro avg       0.87      0.77      0.81      1500\n",
      "weighted avg       0.89      0.89      0.89      1500\n",
      "\n",
      "Confusion Matrix: \n",
      "[[ 171  124]\n",
      " [  36 1169]]\n"
     ]
    }
   ],
   "source": [
    "accuracy, precision, recall, f1, classification, conf_matrix = get_stats(desired=output['real_sentiment'].to_list(), estimated=output['sentiment'].to_list())"
   ]
  },
  {
   "cell_type": "markdown",
   "metadata": {},
   "source": [
    "### Ollama with LLaMa2"
   ]
  },
  {
   "cell_type": "code",
   "execution_count": 20,
   "metadata": {},
   "outputs": [],
   "source": [
    "import ollama\n",
    "#ollama.pull('llama2')"
   ]
  },
  {
   "cell_type": "markdown",
   "metadata": {},
   "source": [
    "### Test with test dataset"
   ]
  },
  {
   "cell_type": "code",
   "execution_count": 50,
   "metadata": {},
   "outputs": [],
   "source": [
    "sentiment_output = []\n",
    "\n",
    "for row in notebooks_test:\n",
    "    response = ollama.generate(model='llama2', prompt=f'Retorna-me a resposta com um \"neg\" para negativo e um \"pos\" para positivo. APENAS DEVE VIR \"neg\" OU \"pos\" NO OUTPUT SEM QUALQUER OUTRO TIPO DE TEXTO NO OUTPUT. Por favor dá-me uma analise de sentimento da seguinte frase: {row}', options={'temperature': 0})\n",
    "    sentiment_output.append(response['response'])"
   ]
  },
  {
   "cell_type": "code",
   "execution_count": 75,
   "metadata": {},
   "outputs": [
    {
     "data": {
      "text/html": [
       "<div>\n",
       "<style scoped>\n",
       "    .dataframe tbody tr th:only-of-type {\n",
       "        vertical-align: middle;\n",
       "    }\n",
       "\n",
       "    .dataframe tbody tr th {\n",
       "        vertical-align: top;\n",
       "    }\n",
       "\n",
       "    .dataframe thead th {\n",
       "        text-align: right;\n",
       "    }\n",
       "</style>\n",
       "<table border=\"1\" class=\"dataframe\">\n",
       "  <thead>\n",
       "    <tr style=\"text-align: right;\">\n",
       "      <th></th>\n",
       "      <th>sentiment</th>\n",
       "      <th>review_text</th>\n",
       "    </tr>\n",
       "  </thead>\n",
       "  <tbody>\n",
       "    <tr>\n",
       "      <th>0</th>\n",
       "      <td>pos</td>\n",
       "      <td>O note é bom, mas não superou as expectativas ...</td>\n",
       "    </tr>\n",
       "    <tr>\n",
       "      <th>1</th>\n",
       "      <td>pos</td>\n",
       "      <td>Ele corresponde ao valor pago. Custando em méd...</td>\n",
       "    </tr>\n",
       "    <tr>\n",
       "      <th>2</th>\n",
       "      <td>pos</td>\n",
       "      <td>O notebook é muito bom, o Windows 10 ferra um ...</td>\n",
       "    </tr>\n",
       "    <tr>\n",
       "      <th>3</th>\n",
       "      <td>pos</td>\n",
       "      <td>O notebook tem uma tela enorme, muito útil par...</td>\n",
       "    </tr>\n",
       "    <tr>\n",
       "      <th>4</th>\n",
       "      <td>pos</td>\n",
       "      <td>O notebook tem uma tela enorme, muito útil par...</td>\n",
       "    </tr>\n",
       "    <tr>\n",
       "      <th>...</th>\n",
       "      <td>...</td>\n",
       "      <td>...</td>\n",
       "    </tr>\n",
       "    <tr>\n",
       "      <th>417</th>\n",
       "      <td>pos</td>\n",
       "      <td>Produto ótimo, entrega rápida gostei da atençã...</td>\n",
       "    </tr>\n",
       "    <tr>\n",
       "      <th>418</th>\n",
       "      <td>pos</td>\n",
       "      <td>O anúncio está péssimo. Não tem informação nen...</td>\n",
       "    </tr>\n",
       "    <tr>\n",
       "      <th>419</th>\n",
       "      <td>pos</td>\n",
       "      <td>Gostei muito, além de lindo, é muito eficiente...</td>\n",
       "    </tr>\n",
       "    <tr>\n",
       "      <th>420</th>\n",
       "      <td>pos</td>\n",
       "      <td>Gostei muito, além de lindo, é muito eficiente...</td>\n",
       "    </tr>\n",
       "    <tr>\n",
       "      <th>421</th>\n",
       "      <td>pos</td>\n",
       "      <td>produto de ótima qualidade e durabilidade,para...</td>\n",
       "    </tr>\n",
       "  </tbody>\n",
       "</table>\n",
       "<p>422 rows × 2 columns</p>\n",
       "</div>"
      ],
      "text/plain": [
       "    sentiment                                        review_text\n",
       "0         pos  O note é bom, mas não superou as expectativas ...\n",
       "1         pos  Ele corresponde ao valor pago. Custando em méd...\n",
       "2         pos  O notebook é muito bom, o Windows 10 ferra um ...\n",
       "3         pos  O notebook tem uma tela enorme, muito útil par...\n",
       "4         pos  O notebook tem uma tela enorme, muito útil par...\n",
       "..        ...                                                ...\n",
       "417       pos  Produto ótimo, entrega rápida gostei da atençã...\n",
       "418       pos  O anúncio está péssimo. Não tem informação nen...\n",
       "419       pos  Gostei muito, além de lindo, é muito eficiente...\n",
       "420       pos  Gostei muito, além de lindo, é muito eficiente...\n",
       "421       pos  produto de ótima qualidade e durabilidade,para...\n",
       "\n",
       "[422 rows x 2 columns]"
      ]
     },
     "execution_count": 75,
     "metadata": {},
     "output_type": "execute_result"
    }
   ],
   "source": [
    "llama2_test_output = pd.DataFrame(columns=['sentiment', 'review_text'])\n",
    "\n",
    "for index, row in enumerate(sentiment_output):\n",
    "    clean_row = row.replace(\"\\n\", \"\")\n",
    "\n",
    "    if clean_row == 'Pos' or clean_row == 'Neg':\n",
    "\n",
    "        if clean_row == 'Pos':\n",
    "            llama_sentiment = 'pos'\n",
    "        elif clean_row == 'Neg':\n",
    "            llama_sentiment = 'neg'\n",
    "\n",
    "        result = {\n",
    "        'sentiment':  llama_sentiment,\n",
    "        'review_text': notebooks_test[index]\n",
    "        }\n",
    "\n",
    "    llama2_test_output = pd.concat([llama2_test_output, pd.DataFrame(result, index=[0])], ignore_index=True)\n",
    "\n",
    "llama2_test_output\n",
    "    "
   ]
  },
  {
   "cell_type": "code",
   "execution_count": 76,
   "metadata": {},
   "outputs": [],
   "source": [
    "llama2_test_output.to_csv('./notebooks-challenge-llama2.csv', sep='\\t')"
   ]
  },
  {
   "cell_type": "markdown",
   "metadata": {},
   "source": [
    "### Test with training dataset"
   ]
  },
  {
   "cell_type": "code",
   "execution_count": 81,
   "metadata": {},
   "outputs": [
    {
     "data": {
      "text/html": [
       "<div>\n",
       "<style scoped>\n",
       "    .dataframe tbody tr th:only-of-type {\n",
       "        vertical-align: middle;\n",
       "    }\n",
       "\n",
       "    .dataframe tbody tr th {\n",
       "        vertical-align: top;\n",
       "    }\n",
       "\n",
       "    .dataframe thead th {\n",
       "        text-align: right;\n",
       "    }\n",
       "</style>\n",
       "<table border=\"1\" class=\"dataframe\">\n",
       "  <thead>\n",
       "    <tr style=\"text-align: right;\">\n",
       "      <th></th>\n",
       "      <th>real_sentiment</th>\n",
       "      <th>sentiment</th>\n",
       "      <th>review_text</th>\n",
       "    </tr>\n",
       "  </thead>\n",
       "  <tbody>\n",
       "    <tr>\n",
       "      <th>0</th>\n",
       "      <td>pos</td>\n",
       "      <td>pos</td>\n",
       "      <td>Estou contente com a compra entrega rápida o ú...</td>\n",
       "    </tr>\n",
       "    <tr>\n",
       "      <th>1</th>\n",
       "      <td>pos</td>\n",
       "      <td>pos</td>\n",
       "      <td>Excelente!!! Produto muito bom, bonito, design...</td>\n",
       "    </tr>\n",
       "    <tr>\n",
       "      <th>2</th>\n",
       "      <td>pos</td>\n",
       "      <td>pos</td>\n",
       "      <td>Superou expectativas  É excelente para jogos, ...</td>\n",
       "    </tr>\n",
       "    <tr>\n",
       "      <th>3</th>\n",
       "      <td>pos</td>\n",
       "      <td>pos</td>\n",
       "      <td>Comprei o mesmo para minha irmã e ela me conto...</td>\n",
       "    </tr>\n",
       "    <tr>\n",
       "      <th>4</th>\n",
       "      <td>pos</td>\n",
       "      <td>pos</td>\n",
       "      <td>Notebbok muito bom! Rápido pequeno e leve para...</td>\n",
       "    </tr>\n",
       "    <tr>\n",
       "      <th>...</th>\n",
       "      <td>...</td>\n",
       "      <td>...</td>\n",
       "      <td>...</td>\n",
       "    </tr>\n",
       "    <tr>\n",
       "      <th>190</th>\n",
       "      <td>pos</td>\n",
       "      <td>pos</td>\n",
       "      <td>Recomendou-lhe apresentação conforme descrito ...</td>\n",
       "    </tr>\n",
       "    <tr>\n",
       "      <th>191</th>\n",
       "      <td>pos</td>\n",
       "      <td>pos</td>\n",
       "      <td>comprei já tem 1 semana, funcionando perfeitam...</td>\n",
       "    </tr>\n",
       "    <tr>\n",
       "      <th>192</th>\n",
       "      <td>pos</td>\n",
       "      <td>pos</td>\n",
       "      <td>Gostei muito desse note pequeno, leve bonito e...</td>\n",
       "    </tr>\n",
       "    <tr>\n",
       "      <th>193</th>\n",
       "      <td>neg</td>\n",
       "      <td>pos</td>\n",
       "      <td>Não recomendo, Noteboock lento, periodicamente...</td>\n",
       "    </tr>\n",
       "    <tr>\n",
       "      <th>194</th>\n",
       "      <td>pos</td>\n",
       "      <td>pos</td>\n",
       "      <td>Máquina excelente para usuários básicos e inte...</td>\n",
       "    </tr>\n",
       "  </tbody>\n",
       "</table>\n",
       "<p>195 rows × 3 columns</p>\n",
       "</div>"
      ],
      "text/plain": [
       "    real_sentiment sentiment  \\\n",
       "0              pos       pos   \n",
       "1              pos       pos   \n",
       "2              pos       pos   \n",
       "3              pos       pos   \n",
       "4              pos       pos   \n",
       "..             ...       ...   \n",
       "190            pos       pos   \n",
       "191            pos       pos   \n",
       "192            pos       pos   \n",
       "193            neg       pos   \n",
       "194            pos       pos   \n",
       "\n",
       "                                           review_text  \n",
       "0    Estou contente com a compra entrega rápida o ú...  \n",
       "1    Excelente!!! Produto muito bom, bonito, design...  \n",
       "2    Superou expectativas  É excelente para jogos, ...  \n",
       "3    Comprei o mesmo para minha irmã e ela me conto...  \n",
       "4    Notebbok muito bom! Rápido pequeno e leve para...  \n",
       "..                                                 ...  \n",
       "190  Recomendou-lhe apresentação conforme descrito ...  \n",
       "191  comprei já tem 1 semana, funcionando perfeitam...  \n",
       "192  Gostei muito desse note pequeno, leve bonito e...  \n",
       "193  Não recomendo, Noteboock lento, periodicamente...  \n",
       "194  Máquina excelente para usuários básicos e inte...  \n",
       "\n",
       "[195 rows x 3 columns]"
      ]
     },
     "execution_count": 81,
     "metadata": {},
     "output_type": "execute_result"
    }
   ],
   "source": [
    "llama2_train_output = pd.DataFrame(columns=['real_sentiment', 'sentiment', 'review_text'])\n",
    "\n",
    "def concat_result(llama_df, llama_sentiment, row):\n",
    "    result = {\n",
    "            'real_sentiment': row.at['sentiment'],\n",
    "            'sentiment': llama_sentiment,\n",
    "            'review_text': row.at['review_text']\n",
    "        }\n",
    "\n",
    "    return pd.concat([llama_df, pd.DataFrame(result, index=[0])], ignore_index=True)\n",
    "\n",
    "for index, row in notebooks_train.iterrows():\n",
    "    response = ollama.generate(model='llama2', prompt=f'Retorna-me a resposta com um \"neg\" para negativo e um \"pos\" para positivo. APENAS DEVE VIR \"neg\" OU \"pos\" NO OUTPUT SEM QUALQUER OUTRO TIPO DE TEXTO NO OUTPUT. Por favor dá-me uma analise de sentimento da seguinte frase: {row.at[\"review_text\"]}', options={'temperature': 0})\n",
    "    response = response['response']\n",
    "    clean_row = response.replace(\"\\n\", \"\")\n",
    "\n",
    "    if clean_row == 'Pos' or clean_row == 'Neg':\n",
    "\n",
    "        if clean_row == 'Pos':\n",
    "            llama_sentiment = 'pos'\n",
    "            llama2_train_output = concat_result(llama2_train_output, llama_sentiment, row)\n",
    "        elif clean_row == 'Neg':\n",
    "            llama_sentiment = 'neg'\n",
    "            llama2_train_output = concat_result(llama2_train_output, llama_sentiment, row)\n",
    "\n",
    "    if index == 200:\n",
    "        break\n",
    "        \n",
    "\n",
    "llama2_train_output"
   ]
  },
  {
   "cell_type": "code",
   "execution_count": 82,
   "metadata": {},
   "outputs": [
    {
     "name": "stdout",
     "output_type": "stream",
     "text": [
      "Accuracy: 0.882051282051282\n",
      "Precision: 0.8961805555555556\n",
      "Recall: 0.882051282051282\n",
      "F1 Score: 0.8390358837201897\n",
      "Classification Report: \n",
      "              precision    recall  f1-score   support\n",
      "\n",
      "         neg       1.00      0.12      0.21        26\n",
      "         pos       0.88      1.00      0.94       169\n",
      "\n",
      "    accuracy                           0.88       195\n",
      "   macro avg       0.94      0.56      0.57       195\n",
      "weighted avg       0.90      0.88      0.84       195\n",
      "\n",
      "Confusion Matrix: \n",
      "[[  3  23]\n",
      " [  0 169]]\n"
     ]
    }
   ],
   "source": [
    "accuracy, precision, recall, f1, classification, conf_matrix = get_stats(desired=llama2_train_output['real_sentiment'].to_list(), estimated=llama2_train_output['sentiment'].to_list())"
   ]
  }
 ],
 "metadata": {
  "kernelspec": {
   "display_name": "Python 3",
   "language": "python",
   "name": "python3"
  },
  "language_info": {
   "codemirror_mode": {
    "name": "ipython",
    "version": 3
   },
   "file_extension": ".py",
   "mimetype": "text/x-python",
   "name": "python",
   "nbconvert_exporter": "python",
   "pygments_lexer": "ipython3",
   "version": "3.11.2"
  }
 },
 "nbformat": 4,
 "nbformat_minor": 2
}
